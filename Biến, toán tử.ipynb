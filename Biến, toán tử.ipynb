{
 "cells": [
  {
   "cell_type": "code",
   "execution_count": 1,
   "id": "c47422d4",
   "metadata": {},
   "outputs": [],
   "source": [
    "# Thực hiện vẽ mặt cười\n",
    "import turtle\n",
    "pen = turtle.Turtle()\n",
    "pen.pensize(5)\n",
    "pen.pencolor(\"#58FF33\")\n",
    "\n",
    "pen.penup()\n",
    "pen.goto(0,-200)\n",
    "pen.pendown()\n",
    "facesize=200\n",
    "pen.circle(facesize)\n",
    "eye_size=17.5\n",
    "#ve mat\n",
    "pen.penup()\n",
    "pen.goto(-50,100)\n",
    "pen.pendown()\n",
    "pen.begin_fill()\n",
    "pen.circle(eye_size)\n",
    "pen.end_fill()\n",
    "\n",
    "pen.penup()\n",
    "pen.goto(50,100)\n",
    "pen.pendown()\n",
    "pen.begin_fill()\n",
    "pen.circle(eye_size)\n",
    "pen.end_fill()\n",
    "\n",
    "pen.penup()\n",
    "pen.goto(0,50)\n",
    "nose_size=20\n",
    "#vẽ mũi\n",
    "pen.pendown()\n",
    "pen.begin_fill()\n",
    "pen.circle(-nose_size, steps=3)\n",
    "pen.end_fill()\n",
    "\n",
    "pen.penup()\n",
    "pen.goto(-70,-100)\n",
    "pen.pendown()\n",
    "pen.begin_fill()\n",
    "pen.right(90)\n",
    "pen.circle(100, 180)\n",
    "pen.end_fill()\n",
    "\n",
    "\n",
    "\n",
    "\n",
    "turtle.done()"
   ]
  },
  {
   "cell_type": "code",
   "execution_count": 3,
   "id": "d73524ec",
   "metadata": {},
   "outputs": [],
   "source": [
    "turtle.done()\n",
    "\n",
    "\n"
   ]
  },
  {
   "cell_type": "code",
   "execution_count": null,
   "id": "24dfea93",
   "metadata": {},
   "outputs": [],
   "source": [
    "# tính diện tich tam giác\n",
    "a=10\n",
    "b=20\n",
    "c=15\n",
    "p=(a+b+c)/2\n",
    "s=p*(p-a)*(p-b)*(p-c)**0.5\n"
   ]
  }
 ],
 "metadata": {
  "kernelspec": {
   "display_name": "Python 3 (ipykernel)",
   "language": "python",
   "name": "python3"
  },
  "language_info": {
   "codemirror_mode": {
    "name": "ipython",
    "version": 3
   },
   "file_extension": ".py",
   "mimetype": "text/x-python",
   "name": "python",
   "nbconvert_exporter": "python",
   "pygments_lexer": "ipython3",
   "version": "3.10.1"
  }
 },
 "nbformat": 4,
 "nbformat_minor": 5
}
