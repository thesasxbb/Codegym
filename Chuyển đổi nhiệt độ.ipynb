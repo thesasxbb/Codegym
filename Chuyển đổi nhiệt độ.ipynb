{
 "cells": [
  {
   "cell_type": "code",
   "execution_count": 4,
   "id": "9571dd3f",
   "metadata": {},
   "outputs": [
    {
     "name": "stdout",
     "output_type": "stream",
     "text": [
      "Nhập nhiệt độ Centigrade: 31\n",
      "Nhiệt độ Fahrenheit là: 87.8\n"
     ]
    }
   ],
   "source": [
    "c = int(input('Nhập nhiệt độ Centigrade: '))\n",
    "f = 9*c/5 + 32\n",
    "print(f\"Nhiệt độ Fahrenheit là: {f}\")"
   ]
  }
 ],
 "metadata": {
  "kernelspec": {
   "display_name": "Python 3 (ipykernel)",
   "language": "python",
   "name": "python3"
  },
  "language_info": {
   "codemirror_mode": {
    "name": "ipython",
    "version": 3
   },
   "file_extension": ".py",
   "mimetype": "text/x-python",
   "name": "python",
   "nbconvert_exporter": "python",
   "pygments_lexer": "ipython3",
   "version": "3.10.3"
  }
 },
 "nbformat": 4,
 "nbformat_minor": 5
}
